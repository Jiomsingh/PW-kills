{
 "cells": [
  {
   "cell_type": "code",
   "execution_count": null,
   "id": "07f09612-95fe-4582-b0bd-c9926f9a18e9",
   "metadata": {},
   "outputs": [],
   "source": [
    "Q.no.1 How do you comment code in python? What are the different types of comments?\n",
    "Sol:- we can start commenting a code with Hash(#) only to explain python code,make the code more readable and can be used to prevent execution when testing code.\n",
    "there are three different kinds of comments used in python namely:-\n",
    "    1. single-line:- The comment continues after the \"hash\"# untill the end of the line.\n",
    "    2. multi-line:- it is used for large text descriptions of code or to comment out chunks of code while debugging applications. In python it begins with either three single quotes or three double quotes.\n",
    "    3. docstring"
   ]
  },
  {
   "cell_type": "code",
   "execution_count": null,
   "id": "537615c4-1870-48d8-9744-779d4b4507af",
   "metadata": {},
   "outputs": [],
   "source": [
    "Q.no.2 What are the variables in python ? How do you declare and assign value to variables?\n",
    "Sol:-It is a symbolic name that is a reference to an object.there are 3 variables used in python namely Name,Number and sequence.\n"
   ]
  },
  {
   "cell_type": "code",
   "execution_count": 3,
   "id": "355c5b1c-0858-4f51-818b-63fdf34a9d53",
   "metadata": {},
   "outputs": [],
   "source": [
    " a=[3]"
   ]
  },
  {
   "cell_type": "code",
   "execution_count": 4,
   "id": "d4cf612d-3b82-40bf-b9fb-f37183901cb0",
   "metadata": {},
   "outputs": [
    {
     "data": {
      "text/plain": [
       "[3]"
      ]
     },
     "execution_count": 4,
     "metadata": {},
     "output_type": "execute_result"
    }
   ],
   "source": [
    "a # here a is variable in which we assign its value 3. so whenever we call a it gives 3"
   ]
  },
  {
   "cell_type": "code",
   "execution_count": null,
   "id": "6e6cadab-b623-4d75-8f66-610462941863",
   "metadata": {},
   "outputs": [],
   "source": [
    "Q.no.3 How do you convert one data type to another in python?\n",
    "Sol:-The data type is manually change by user as per their requirment.it is also called typecasting.in python various function used for typecating\n",
    "i.e int(),str(),float(), list[],tuple(),set{} etc...."
   ]
  },
  {
   "cell_type": "code",
   "execution_count": 2,
   "id": "35a565dc-2141-4228-bb07-5d877c4acd71",
   "metadata": {},
   "outputs": [],
   "source": [
    "a=7"
   ]
  },
  {
   "cell_type": "code",
   "execution_count": 3,
   "id": "cf85f31f-4232-468c-aa0b-7928f2854cb5",
   "metadata": {},
   "outputs": [
    {
     "data": {
      "text/plain": [
       "7"
      ]
     },
     "execution_count": 3,
     "metadata": {},
     "output_type": "execute_result"
    }
   ],
   "source": [
    "a # here value of a is integer 7"
   ]
  },
  {
   "cell_type": "code",
   "execution_count": 4,
   "id": "0f345549-8279-47cf-8e8a-77c14fccda48",
   "metadata": {},
   "outputs": [
    {
     "data": {
      "text/plain": [
       "'7'"
      ]
     },
     "execution_count": 4,
     "metadata": {},
     "output_type": "execute_result"
    }
   ],
   "source": [
    "str(a) # value of a is changed from integer 7 to string \"7\" with the help of str() fun"
   ]
  },
  {
   "cell_type": "code",
   "execution_count": null,
   "id": "334e02ee-62e9-4f65-bd1d-fe88f8e0c9f0",
   "metadata": {},
   "outputs": [],
   "source": [
    "Q.no.4:- How do you write and execute a python script from the command line?\n",
    "Sol:- we can write the python script on jupyter notebook by launching My lab portal. we can execute python script by pressing ctrl+enter or Shift enter."
   ]
  },
  {
   "cell_type": "code",
   "execution_count": null,
   "id": "6e7edb31-9d80-4a70-8e6a-bf6438afe641",
   "metadata": {},
   "outputs": [],
   "source": [
    "Q.no.5:- Given a list My_list=[1,2,3,4,5] ,write a code to slice a list and obtain the sub-list[2,3].\n"
   ]
  },
  {
   "cell_type": "code",
   "execution_count": 1,
   "id": "32d2ba3f-6a83-4805-8c63-e2d9c43e599e",
   "metadata": {},
   "outputs": [],
   "source": [
    "s=[1,2,3,4,5] "
   ]
  },
  {
   "cell_type": "code",
   "execution_count": 3,
   "id": "84784cf8-ebae-4d15-8cea-1ff11df4e295",
   "metadata": {},
   "outputs": [
    {
     "data": {
      "text/plain": [
       "[2, 3]"
      ]
     },
     "execution_count": 3,
     "metadata": {},
     "output_type": "execute_result"
    }
   ],
   "source": [
    "s[1:3]"
   ]
  },
  {
   "cell_type": "code",
   "execution_count": null,
   "id": "78bbcf81-aac3-401e-bb9d-6557a321a59e",
   "metadata": {},
   "outputs": [],
   "source": [
    "# slicing always work on upperlimit-1"
   ]
  },
  {
   "cell_type": "code",
   "execution_count": null,
   "id": "ba33b64e-fe62-40ad-97d5-ee7f80491bda",
   "metadata": {},
   "outputs": [],
   "source": [
    "Q. no.6:- What is a complex number in mathematics ? how it is represented in python?\n",
    "Sol:- Complex number is part of number system which consist of real as well as imaginary part and is denoted by Z= A+Bi, where A is its Real part and B is called imaginary part.\n",
    "      In python it is represented same as in mathematics except i is replaced by j only. so in python a complex number Z is represented as \n",
    "      Z= A+Bj. it can be separated by using (complex number's variable name ).tab button."
   ]
  },
  {
   "cell_type": "code",
   "execution_count": 4,
   "id": "67eaea9b-c0e3-4901-a1f6-c69fb606986f",
   "metadata": {},
   "outputs": [],
   "source": [
    "a=9+3j"
   ]
  },
  {
   "cell_type": "code",
   "execution_count": 7,
   "id": "bb214187-6446-42e8-9c9f-364a0a30b212",
   "metadata": {},
   "outputs": [
    {
     "data": {
      "text/plain": [
       "(9.0, 3.0)"
      ]
     },
     "execution_count": 7,
     "metadata": {},
     "output_type": "execute_result"
    }
   ],
   "source": [
    "a.real, a.imag"
   ]
  },
  {
   "cell_type": "code",
   "execution_count": null,
   "id": "a685ea2a-e695-45bc-a80f-d23722506c1a",
   "metadata": {},
   "outputs": [],
   "source": [
    "Q. no.7:- What is the correct way to decleare a variable named age and assign the value 25 to it?\n",
    "Sol:- we just need to write the variable name (age here) and then assignment operater = and finally write the desired value to it."
   ]
  },
  {
   "cell_type": "code",
   "execution_count": 8,
   "id": "b5b19af1-ab83-4cad-a8ac-0ba75785360b",
   "metadata": {},
   "outputs": [],
   "source": [
    "age=25"
   ]
  },
  {
   "cell_type": "code",
   "execution_count": 9,
   "id": "13ec0109-086e-4d9d-917f-90d6880e9848",
   "metadata": {},
   "outputs": [
    {
     "data": {
      "text/plain": [
       "25"
      ]
     },
     "execution_count": 9,
     "metadata": {},
     "output_type": "execute_result"
    }
   ],
   "source": [
    "age"
   ]
  },
  {
   "cell_type": "code",
   "execution_count": null,
   "id": "f840e180-c648-47ba-803d-a0827f6011b4",
   "metadata": {},
   "outputs": [],
   "source": [
    "Q.no.8:- Decleare a variable named price and assign the value 9.99 to it. What datatype does this variable belongs to??\n",
    "Sol:- To get the data type of any variable we just need to write type() function and write the variable name inside the brackets and press ctrl+enter."
   ]
  },
  {
   "cell_type": "code",
   "execution_count": 16,
   "id": "40613035-e76b-4341-87a7-c44fbac1e607",
   "metadata": {},
   "outputs": [],
   "source": [
    "price=9.99"
   ]
  },
  {
   "cell_type": "code",
   "execution_count": 17,
   "id": "4fdbc961-9fcd-417e-ae69-242215f32f7c",
   "metadata": {},
   "outputs": [
    {
     "data": {
      "text/plain": [
       "9.99"
      ]
     },
     "execution_count": 17,
     "metadata": {},
     "output_type": "execute_result"
    }
   ],
   "source": [
    "price"
   ]
  },
  {
   "cell_type": "code",
   "execution_count": 18,
   "id": "f2d161b9-9102-407a-a82c-740868f98364",
   "metadata": {},
   "outputs": [
    {
     "data": {
      "text/plain": [
       "float"
      ]
     },
     "execution_count": 18,
     "metadata": {},
     "output_type": "execute_result"
    }
   ],
   "source": [
    "type(price) # so price variable belongs to Float data type."
   ]
  },
  {
   "cell_type": "code",
   "execution_count": null,
   "id": "9e83fb3b-d7d4-4687-821a-5f0d444348eb",
   "metadata": {},
   "outputs": [],
   "source": [
    "Q.no.9:-Create a variable named name and assign your full name to it as a string .How would you print the value of this variable?\n",
    "Sol:- To assign a value as string datatype value should be in single/double quotes otherwise invalid syntax error occurance happens."
   ]
  },
  {
   "cell_type": "code",
   "execution_count": 26,
   "id": "4f8b60d5-9b77-40fd-ab33-63e1cc807a98",
   "metadata": {},
   "outputs": [
    {
     "ename": "SyntaxError",
     "evalue": "invalid syntax (3993640051.py, line 1)",
     "output_type": "error",
     "traceback": [
      "\u001b[0;36m  Cell \u001b[0;32mIn[26], line 1\u001b[0;36m\u001b[0m\n\u001b[0;31m    name=Om prakash\u001b[0m\n\u001b[0m            ^\u001b[0m\n\u001b[0;31mSyntaxError\u001b[0m\u001b[0;31m:\u001b[0m invalid syntax\n"
     ]
    }
   ],
   "source": [
    "name=Om prakash"
   ]
  },
  {
   "cell_type": "code",
   "execution_count": 27,
   "id": "107b051a-ec2d-4c98-b50e-0c3268fbe75d",
   "metadata": {},
   "outputs": [],
   "source": [
    "Name=\"Om prakash\""
   ]
  },
  {
   "cell_type": "code",
   "execution_count": 29,
   "id": "a676c64d-1a4d-40bd-9bf4-6e893cbf5eb9",
   "metadata": {},
   "outputs": [
    {
     "data": {
      "text/plain": [
       "'Om prakash'"
      ]
     },
     "execution_count": 29,
     "metadata": {},
     "output_type": "execute_result"
    }
   ],
   "source": [
    "Name"
   ]
  },
  {
   "cell_type": "code",
   "execution_count": null,
   "id": "a2c0fbe9-6e94-4b00-a1e6-50ae0af27308",
   "metadata": {},
   "outputs": [],
   "source": [
    "Q.no.10:- Given the string \"Hello World\",extract the substring \"World\"."
   ]
  },
  {
   "cell_type": "code",
   "execution_count": 37,
   "id": "a0e209a0-4548-48a3-b812-04f6c01916e2",
   "metadata": {},
   "outputs": [],
   "source": [
    "string=\"Hello,World\""
   ]
  },
  {
   "cell_type": "code",
   "execution_count": 47,
   "id": "9c3732ff-6d94-4a44-bd69-9773328788bf",
   "metadata": {},
   "outputs": [
    {
     "name": "stdout",
     "output_type": "stream",
     "text": [
      "World\n"
     ]
    }
   ],
   "source": [
    "print(string[6:])"
   ]
  },
  {
   "cell_type": "code",
   "execution_count": null,
   "id": "70181267-95c6-4e0f-bf74-eb1392ea6923",
   "metadata": {},
   "outputs": [],
   "source": [
    "Q.No.11:- Create the variable named \"Is_student\" and assign it to a boolean value indicating whether you are currently a student or not?\n"
   ]
  },
  {
   "cell_type": "code",
   "execution_count": 54,
   "id": "40a4e142-16d9-41ee-9434-11a93f8e2ca4",
   "metadata": {},
   "outputs": [
    {
     "name": "stdout",
     "output_type": "stream",
     "text": [
      "Student\n"
     ]
    }
   ],
   "source": [
    "Is_student=bool(1)\n",
    "\n",
    "if Is_student==1:\n",
    "    print(\"Student\")\n",
    "else:\n",
    "    print(\"Not Student\")"
   ]
  }
 ],
 "metadata": {
  "kernelspec": {
   "display_name": "Python 3 (ipykernel)",
   "language": "python",
   "name": "python3"
  },
  "language_info": {
   "codemirror_mode": {
    "name": "ipython",
    "version": 3
   },
   "file_extension": ".py",
   "mimetype": "text/x-python",
   "name": "python",
   "nbconvert_exporter": "python",
   "pygments_lexer": "ipython3",
   "version": "3.10.8"
  }
 },
 "nbformat": 4,
 "nbformat_minor": 5
}
