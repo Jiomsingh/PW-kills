{
 "cells": [
  {
   "cell_type": "code",
   "execution_count": null,
   "id": "0b795ece-2862-4a55-941e-345d05a28bc3",
   "metadata": {},
   "outputs": [],
   "source": [
    "l=\"Omprakash\""
   ]
  },
  {
   "cell_type": "code",
   "execution_count": null,
   "id": "69501403-98af-4c89-aa48-ebb0b506079e",
   "metadata": {},
   "outputs": [],
   "source": [
    "k=[62.32,1,2,\"om\",False,\"PW\",64.87,9+8j]"
   ]
  },
  {
   "cell_type": "code",
   "execution_count": null,
   "id": "b55c4170-7e04-46d0-9acb-4734f1df3935",
   "metadata": {},
   "outputs": [],
   "source": [
    "d=78.32"
   ]
  },
  {
   "cell_type": "code",
   "execution_count": null,
   "id": "1e5a2421-d43a-49fb-9914-2f2024a4bd72",
   "metadata": {},
   "outputs": [],
   "source": [
    "T={13,\"om\",False,[85,75,63],34.5}"
   ]
  },
  {
   "cell_type": "code",
   "execution_count": null,
   "id": "3b3f2742-5b7d-4958-87ba-9d04d6c4865e",
   "metadata": {},
   "outputs": [],
   "source": []
  },
  {
   "cell_type": "code",
   "execution_count": null,
   "id": "f643ed2a-2fdf-4a19-9fb5-2be0de601881",
   "metadata": {},
   "outputs": [],
   "source": [
    "string\n",
    "string\n",
    "list\n",
    "int"
   ]
  },
  {
   "cell_type": "code",
   "execution_count": null,
   "id": "ece799c9-6277-489e-9da7-9c3d938cb784",
   "metadata": {},
   "outputs": [],
   "source": [
    "/ is division operator"
   ]
  },
  {
   "cell_type": "code",
   "execution_count": 3,
   "id": "73207edf-635a-46a6-a20b-c93ea983735e",
   "metadata": {},
   "outputs": [
    {
     "data": {
      "text/plain": [
       "(22.0, 28.0, 5.75)"
      ]
     },
     "execution_count": 3,
     "metadata": {},
     "output_type": "execute_result"
    }
   ],
   "source": [
    "88/4,56/2,23/4"
   ]
  },
  {
   "cell_type": "code",
   "execution_count": null,
   "id": "5cce2433-0f2b-4e35-8b71-c22ba144d70d",
   "metadata": {},
   "outputs": [],
   "source": [
    "% is a modulus operator it shows only reminder value "
   ]
  },
  {
   "cell_type": "markdown",
   "id": "fd665ce8-c802-4c24-8b25-a704747f85ae",
   "metadata": {
    "jp-MarkdownHeadingCollapsed": true,
    "tags": []
   },
   "source": []
  },
  {
   "cell_type": "code",
   "execution_count": 7,
   "id": "aad48e06-f568-4b51-96fa-c66d9a184bb6",
   "metadata": {},
   "outputs": [
    {
     "data": {
      "text/plain": [
       "(4, 2, 0)"
      ]
     },
     "execution_count": 7,
     "metadata": {},
     "output_type": "execute_result"
    }
   ],
   "source": [
    "60%8,154%8,321%3"
   ]
  },
  {
   "cell_type": "code",
   "execution_count": null,
   "id": "078ad68e-da50-480e-a99d-2085f0ae5e18",
   "metadata": {
    "jupyter": {
     "source_hidden": true
    },
    "tags": []
   },
   "outputs": [],
   "source": [
    "// is double slash or double steric operator in python it divides the numrator by denominator and gives nearest whole number as a result\n"
   ]
  },
  {
   "cell_type": "code",
   "execution_count": 10,
   "id": "2e01e559-341f-4eff-922a-969711481cd4",
   "metadata": {},
   "outputs": [
    {
     "data": {
      "text/plain": [
       "(11, 17, 16)"
      ]
     },
     "execution_count": 10,
     "metadata": {},
     "output_type": "execute_result"
    }
   ],
   "source": [
    "45//4,53//3,96//6"
   ]
  },
  {
   "cell_type": "code",
   "execution_count": null,
   "id": "0a07d582-99f9-4546-8efe-7c7869325ee9",
   "metadata": {},
   "outputs": [],
   "source": [
    "** is exponent operator in python which gives exponent value of base number."
   ]
  },
  {
   "cell_type": "code",
   "execution_count": 14,
   "id": "2dca9405-dab5-4ce4-a806-8e85b409cc39",
   "metadata": {},
   "outputs": [
    {
     "data": {
      "text/plain": [
       "(64, 4, 81)"
      ]
     },
     "execution_count": 14,
     "metadata": {},
     "output_type": "execute_result"
    }
   ],
   "source": [
    "4**3,2**2,3**4"
   ]
  },
  {
   "cell_type": "code",
   "execution_count": null,
   "id": "7fdf25a0-0535-43d3-b867-3f0d3c7d8cf8",
   "metadata": {},
   "outputs": [],
   "source": []
  },
  {
   "cell_type": "code",
   "execution_count": null,
   "id": "cd9ea8cb-cbeb-4dae-ae31-01ba2e7de220",
   "metadata": {},
   "outputs": [],
   "source": []
  },
  {
   "cell_type": "code",
   "execution_count": 10,
   "id": "b199ba5c-9ebd-47cf-90b7-89a8cf5933e3",
   "metadata": {},
   "outputs": [
    {
     "name": "stdout",
     "output_type": "stream",
     "text": [
      "<class 'int'>\n",
      "1\n",
      "<class 'int'>\n",
      "2\n",
      "<class 'int'>\n",
      "33\n",
      "<class 'int'>\n",
      "43\n",
      "<class 'float'>\n",
      "23.32\n",
      "<class 'float'>\n",
      "95.23\n",
      "<class 'bool'>\n",
      "False\n",
      "<class 'bool'>\n",
      "True\n",
      "<class 'complex'>\n",
      "(5+7j)\n",
      "<class 'complex'>\n",
      "(4-5j)\n",
      "<class 'str'>\n",
      "Omprakash\n",
      "<class 'str'>\n",
      "Python\n"
     ]
    }
   ],
   "source": [
    "L=[1,2,33,43,23.32,95.23,False,True,5+7j,4-5j,\"Omprakash\",\"Python\"]\n",
    "for p in L:\n",
    "    print(type(p))\n",
    "    if p==\"python\":\n",
    "        continue\n",
    "    print(p)"
   ]
  },
  {
   "cell_type": "code",
   "execution_count": null,
   "id": "3a9236d7-0292-48d7-a112-f9fe164d506e",
   "metadata": {},
   "outputs": [],
   "source": []
  },
  {
   "cell_type": "code",
   "execution_count": 12,
   "id": "48bdc3da-a3f1-4a94-a9ed-356276a0cf54",
   "metadata": {},
   "outputs": [
    {
     "name": "stdout",
     "output_type": "stream",
     "text": [
      "The number A is divisible by B {count} times.\n"
     ]
    }
   ],
   "source": [
    "A=200\n",
    "B=20\n",
    "count = 0  \n",
    "count\n",
    "while A % B == 0:\n",
    "    A = A / B\n",
    "    count += 1\n",
    "\n",
    "if count > 0:\n",
    "    print(\"The number A is divisible by B {count} times.\")\n",
    "else:\n",
    "    print(\"The number A is not divisible by B.\")"
   ]
  },
  {
   "cell_type": "code",
   "execution_count": 12,
   "id": "ddd0decd-18e0-4d50-8c4e-b4f47d2deadd",
   "metadata": {},
   "outputs": [
    {
     "ename": "IndentationError",
     "evalue": "expected an indented block after 'if' statement on line 4 (990579693.py, line 5)",
     "output_type": "error",
     "traceback": [
      "\u001b[0;36m  Cell \u001b[0;32mIn[12], line 5\u001b[0;36m\u001b[0m\n\u001b[0;31m    else:\u001b[0m\n\u001b[0m         ^\u001b[0m\n\u001b[0;31mIndentationError\u001b[0m\u001b[0;31m:\u001b[0m expected an indented block after 'if' statement on line 4\n"
     ]
    }
   ],
   "source": [
    "L=[11,12,14,19,21,24,27,30,36,39,41,49,52,59,61,68,71,77,88,89]\n",
    "for p in L:\n",
    "    print(p)\n",
    "    if p%3==0:\n",
    "else:\n",
    "    print ('not divisible by 3')"
   ]
  },
  {
   "cell_type": "code",
   "execution_count": null,
   "id": "f7fd6282-01ef-4578-96df-f1644abd181c",
   "metadata": {},
   "outputs": [],
   "source": [
    "Mutable Data types - when we reassign the data with the help of indexing then it is called Mutable data types.\n",
    "for example:-list\n",
    "Imutable data types :- when we cant able to reassign the data then it is called Imutable data types. i.e Strings\n"
   ]
  },
  {
   "cell_type": "code",
   "execution_count": null,
   "id": "085681ff-f65a-4a1e-a360-91ca9a6421f8",
   "metadata": {},
   "outputs": [],
   "source": [
    "l=[62.32,1,2,\"om\",False,\"PW\",64.87,9+8j]"
   ]
  },
  {
   "cell_type": "code",
   "execution_count": 18,
   "id": "4236ac7a-d045-4302-87a7-98a42a0af387",
   "metadata": {},
   "outputs": [
    {
     "ename": "NameError",
     "evalue": "name 'l' is not defined",
     "output_type": "error",
     "traceback": [
      "\u001b[0;31m---------------------------------------------------------------------------\u001b[0m",
      "\u001b[0;31mNameError\u001b[0m                                 Traceback (most recent call last)",
      "Cell \u001b[0;32mIn[18], line 1\u001b[0m\n\u001b[0;32m----> 1\u001b[0m \u001b[43ml\u001b[49m[\u001b[38;5;241m3\u001b[39m]\n",
      "\u001b[0;31mNameError\u001b[0m: name 'l' is not defined"
     ]
    }
   ],
   "source": [
    "l[3]"
   ]
  }
 ],
 "metadata": {
  "kernelspec": {
   "display_name": "Python 3 (ipykernel)",
   "language": "python",
   "name": "python3"
  },
  "language_info": {
   "codemirror_mode": {
    "name": "ipython",
    "version": 3
   },
   "file_extension": ".py",
   "mimetype": "text/x-python",
   "name": "python",
   "nbconvert_exporter": "python",
   "pygments_lexer": "ipython3",
   "version": "3.10.8"
  }
 },
 "nbformat": 4,
 "nbformat_minor": 5
}
